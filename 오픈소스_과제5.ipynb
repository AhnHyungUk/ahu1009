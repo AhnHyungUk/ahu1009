{
  "nbformat": 4,
  "nbformat_minor": 0,
  "metadata": {
    "colab": {
      "provenance": []
    },
    "kernelspec": {
      "name": "python3",
      "display_name": "Python 3"
    },
    "language_info": {
      "name": "python"
    }
  },
  "cells": [
    {
      "cell_type": "code",
      "execution_count": 2,
      "metadata": {
        "colab": {
          "base_uri": "https://localhost:8080/"
        },
        "id": "IORR_p23XPBY",
        "outputId": "26572772-4fd7-4637-eadf-9b9f07e535fc"
      },
      "outputs": [
        {
          "output_type": "execute_result",
          "data": {
            "text/plain": [
              "4"
            ]
          },
          "metadata": {},
          "execution_count": 2
        }
      ],
      "source": [
        "open('cafe.txt', 'w', encoding='utf8').write('café')"
      ]
    },
    {
      "cell_type": "code",
      "source": [
        "open('cafe.txt').read()"
      ],
      "metadata": {
        "colab": {
          "base_uri": "https://localhost:8080/",
          "height": 35
        },
        "id": "BZvneDibXisj",
        "outputId": "b52312ff-c893-4b0f-9398-8e6dad3ac3a2"
      },
      "execution_count": 3,
      "outputs": [
        {
          "output_type": "execute_result",
          "data": {
            "text/plain": [
              "'café'"
            ],
            "application/vnd.google.colaboratory.intrinsic+json": {
              "type": "string"
            }
          },
          "metadata": {},
          "execution_count": 3
        }
      ]
    },
    {
      "cell_type": "code",
      "source": [
        "import sys, locale\n",
        "\n",
        "expressions = \"\"\"\n",
        "  locale.getpreferredencoding()\n",
        "  type(my_file)\n",
        "  my_file.encoding\n",
        "  sys.stdout.isatty()\n",
        "  sys.stdout.encoding\n",
        "  sys.stdin.isatty()\n",
        "  sys.stdin.encoding\n",
        "  sys.stderr.isatty()\n",
        "  sys.stderr.encoding\n",
        "  sys.getdefaultencoding()\n",
        "  sys.getfilesystemencoding()\n",
        "  \"\"\"\n",
        "\n",
        "my_file = open('dummy', 'w')\n",
        "\n",
        "for expression in expressions.split():\n",
        "    value = eval(expression)\n",
        "    print(expression.rjust(30), '-->', repr(value))"
      ],
      "metadata": {
        "colab": {
          "base_uri": "https://localhost:8080/"
        },
        "id": "9HqvNBUIXvTC",
        "outputId": "eda6b504-302f-4885-b93b-64a33d182649"
      },
      "execution_count": 4,
      "outputs": [
        {
          "output_type": "stream",
          "name": "stdout",
          "text": [
            " locale.getpreferredencoding() --> 'UTF-8'\n",
            "                 type(my_file) --> <class '_io.TextIOWrapper'>\n",
            "              my_file.encoding --> 'UTF-8'\n",
            "           sys.stdout.isatty() --> False\n",
            "           sys.stdout.encoding --> 'UTF-8'\n",
            "            sys.stdin.isatty() --> False\n",
            "            sys.stdin.encoding --> 'utf-8'\n",
            "           sys.stderr.isatty() --> False\n",
            "           sys.stderr.encoding --> 'UTF-8'\n",
            "      sys.getdefaultencoding() --> 'utf-8'\n",
            "   sys.getfilesystemencoding() --> 'utf-8'\n"
          ]
        }
      ]
    },
    {
      "cell_type": "code",
      "source": [
        "from unicodedata import normalize\n",
        "len(normalize('NFC', s1)), len(normalize('NFC', s2))"
      ],
      "metadata": {
        "colab": {
          "base_uri": "https://localhost:8080/",
          "height": 166
        },
        "id": "KByX8pqwYD8U",
        "outputId": "a8e77cf8-b534-472d-a529-75725731fe22"
      },
      "execution_count": 5,
      "outputs": [
        {
          "output_type": "error",
          "ename": "NameError",
          "evalue": "name 's1' is not defined",
          "traceback": [
            "\u001b[0;31m---------------------------------------------------------------------------\u001b[0m",
            "\u001b[0;31mNameError\u001b[0m                                 Traceback (most recent call last)",
            "\u001b[0;32m<ipython-input-5-cf10ddeb77bf>\u001b[0m in \u001b[0;36m<cell line: 2>\u001b[0;34m()\u001b[0m\n\u001b[1;32m      1\u001b[0m \u001b[0;32mfrom\u001b[0m \u001b[0municodedata\u001b[0m \u001b[0;32mimport\u001b[0m \u001b[0mnormalize\u001b[0m\u001b[0;34m\u001b[0m\u001b[0;34m\u001b[0m\u001b[0m\n\u001b[0;32m----> 2\u001b[0;31m \u001b[0mlen\u001b[0m\u001b[0;34m(\u001b[0m\u001b[0mnormalize\u001b[0m\u001b[0;34m(\u001b[0m\u001b[0;34m'NFC'\u001b[0m\u001b[0;34m,\u001b[0m \u001b[0ms1\u001b[0m\u001b[0;34m)\u001b[0m\u001b[0;34m)\u001b[0m\u001b[0;34m,\u001b[0m \u001b[0mlen\u001b[0m\u001b[0;34m(\u001b[0m\u001b[0mnormalize\u001b[0m\u001b[0;34m(\u001b[0m\u001b[0;34m'NFC'\u001b[0m\u001b[0;34m,\u001b[0m \u001b[0ms2\u001b[0m\u001b[0;34m)\u001b[0m\u001b[0;34m)\u001b[0m\u001b[0;34m\u001b[0m\u001b[0;34m\u001b[0m\u001b[0m\n\u001b[0m",
            "\u001b[0;31mNameError\u001b[0m: name 's1' is not defined"
          ]
        }
      ]
    },
    {
      "cell_type": "code",
      "source": [
        "from unicodedata import normalize, name\n",
        "ohm = '\\u2126'\n",
        "name(ohm)"
      ],
      "metadata": {
        "colab": {
          "base_uri": "https://localhost:8080/",
          "height": 35
        },
        "id": "jsr1rrOWYkkr",
        "outputId": "8a61af38-dc6f-4978-fbab-e9ee7364a13d"
      },
      "execution_count": 6,
      "outputs": [
        {
          "output_type": "execute_result",
          "data": {
            "text/plain": [
              "'OHM SIGN'"
            ],
            "application/vnd.google.colaboratory.intrinsic+json": {
              "type": "string"
            }
          },
          "metadata": {},
          "execution_count": 6
        }
      ]
    },
    {
      "cell_type": "code",
      "source": [
        "ohm_c = normalize('NFC', ohm)\n",
        "name(ohm_c)"
      ],
      "metadata": {
        "colab": {
          "base_uri": "https://localhost:8080/",
          "height": 35
        },
        "id": "sy9e6jzMYsaI",
        "outputId": "d9236659-61e6-48fb-e601-cf915b30ea0a"
      },
      "execution_count": 7,
      "outputs": [
        {
          "output_type": "execute_result",
          "data": {
            "text/plain": [
              "'GREEK CAPITAL LETTER OMEGA'"
            ],
            "application/vnd.google.colaboratory.intrinsic+json": {
              "type": "string"
            }
          },
          "metadata": {},
          "execution_count": 7
        }
      ]
    },
    {
      "cell_type": "code",
      "source": [
        "ohm, ohm_c, ohm == ohm_c"
      ],
      "metadata": {
        "colab": {
          "base_uri": "https://localhost:8080/"
        },
        "id": "EOyyNzpKYwVS",
        "outputId": "5d18e80b-5116-41eb-a1ef-5d1b2e48dca3"
      },
      "execution_count": 8,
      "outputs": [
        {
          "output_type": "execute_result",
          "data": {
            "text/plain": [
              "('Ω', 'Ω', False)"
            ]
          },
          "metadata": {},
          "execution_count": 8
        }
      ]
    },
    {
      "cell_type": "code",
      "source": [
        "normalize('NFC', ohm) == normalize('NFC', ohm_c)"
      ],
      "metadata": {
        "colab": {
          "base_uri": "https://localhost:8080/"
        },
        "id": "7dx9_SS8YysJ",
        "outputId": "3ea4130b-298c-4ff2-d9a7-3af433afe28e"
      },
      "execution_count": 9,
      "outputs": [
        {
          "output_type": "execute_result",
          "data": {
            "text/plain": [
              "True"
            ]
          },
          "metadata": {},
          "execution_count": 9
        }
      ]
    },
    {
      "cell_type": "code",
      "source": [
        "eszett = 'ß'\n",
        "name(eszett)"
      ],
      "metadata": {
        "colab": {
          "base_uri": "https://localhost:8080/",
          "height": 35
        },
        "id": "B8-grvWqY2qQ",
        "outputId": "561cbb29-ed24-4994-cbe3-26dad90cb36f"
      },
      "execution_count": 12,
      "outputs": [
        {
          "output_type": "execute_result",
          "data": {
            "text/plain": [
              "'LATIN SMALL LETTER SHARP S'"
            ],
            "application/vnd.google.colaboratory.intrinsic+json": {
              "type": "string"
            }
          },
          "metadata": {},
          "execution_count": 12
        }
      ]
    },
    {
      "cell_type": "code",
      "source": [
        "eszett_cf = eszett.casefold()\n",
        "eszett_cf2 = eszett.lower()\n",
        "eszett, eszett_cf, eszett_cf2"
      ],
      "metadata": {
        "colab": {
          "base_uri": "https://localhost:8080/"
        },
        "id": "ulU9OhE2Y889",
        "outputId": "2ee1e87c-ea29-4e91-ebef-fef5984a79c5"
      },
      "execution_count": 13,
      "outputs": [
        {
          "output_type": "execute_result",
          "data": {
            "text/plain": [
              "('ß', 'ss', 'ß')"
            ]
          },
          "metadata": {},
          "execution_count": 13
        }
      ]
    },
    {
      "cell_type": "code",
      "source": [
        "s1 = 'café'\n",
        "s2 = 'cafe\\u0301'\n",
        "print(s1 == s2)"
      ],
      "metadata": {
        "colab": {
          "base_uri": "https://localhost:8080/"
        },
        "id": "SHDyxAOgZN8Y",
        "outputId": "068e6008-44c0-43b3-d845-fe5bb742fda5"
      },
      "execution_count": 14,
      "outputs": [
        {
          "output_type": "stream",
          "name": "stdout",
          "text": [
            "False\n"
          ]
        }
      ]
    },
    {
      "cell_type": "code",
      "source": [
        "from unicodedata import normalize\n",
        "\n",
        "def nfc_equal(str1, str2):\n",
        "    return normalize('NFC', str1) == normalize('NFC', str2)\n",
        "\n",
        "def fold_equal(str1, str2):\n",
        "    return normalize('NFC', str1).casefold() == normalize('NFC', str2).casefold()\n",
        "\n",
        "nfc_equal(s1, s2)"
      ],
      "metadata": {
        "colab": {
          "base_uri": "https://localhost:8080/"
        },
        "id": "hI5Ih1IkZaWP",
        "outputId": "4e624cb4-29dc-4802-c7f1-56e30365d264"
      },
      "execution_count": 15,
      "outputs": [
        {
          "output_type": "execute_result",
          "data": {
            "text/plain": [
              "True"
            ]
          },
          "metadata": {},
          "execution_count": 15
        }
      ]
    },
    {
      "cell_type": "code",
      "source": [
        "nfc_equal('A', 'a')"
      ],
      "metadata": {
        "colab": {
          "base_uri": "https://localhost:8080/"
        },
        "id": "Z4RHF13zZeYC",
        "outputId": "4785d443-ba45-4688-dcd0-361487a0b6ed"
      },
      "execution_count": 16,
      "outputs": [
        {
          "output_type": "execute_result",
          "data": {
            "text/plain": [
              "False"
            ]
          },
          "metadata": {},
          "execution_count": 16
        }
      ]
    },
    {
      "cell_type": "code",
      "source": [
        "s3 = 'Straße'\n",
        "s4 = 'strasse'\n",
        "s3 == s4"
      ],
      "metadata": {
        "colab": {
          "base_uri": "https://localhost:8080/"
        },
        "id": "vdXVhpBNZl-z",
        "outputId": "633c6a0a-9efa-40e0-ed8e-a9c66b581087"
      },
      "execution_count": 17,
      "outputs": [
        {
          "output_type": "execute_result",
          "data": {
            "text/plain": [
              "False"
            ]
          },
          "metadata": {},
          "execution_count": 17
        }
      ]
    },
    {
      "cell_type": "code",
      "source": [
        "print(fold_equal(s3, s4))\n",
        "print(fold_equal(s1, s2))\n",
        "print(fold_equal('A', 'a'))\n",
        "print(nfc_equal(s1, s2))\n",
        "print(nfc_equal('A', 'a'))"
      ],
      "metadata": {
        "colab": {
          "base_uri": "https://localhost:8080/"
        },
        "id": "RbYm4IuiZrJZ",
        "outputId": "d0c81ce1-35ef-4a89-8b80-5fbd0e40af36"
      },
      "execution_count": 18,
      "outputs": [
        {
          "output_type": "stream",
          "name": "stdout",
          "text": [
            "True\n",
            "True\n",
            "True\n",
            "True\n",
            "False\n"
          ]
        }
      ]
    },
    {
      "cell_type": "code",
      "source": [
        "import unicodedata\n",
        "import string\n",
        "\n",
        "def shave_marks(txt):\n",
        "    \"\"\"발음 구별 기호를 모두 제거한다\"\"\"\n",
        "    norm_txt = unicodedata.normalize('NFD', txt)\n",
        "    shaved = ''.join(c for c in norm_txt if not unicodedata.combining(c))\n",
        "    return unicodedata.normalize('NFC', shaved)\n"
      ],
      "metadata": {
        "id": "XzSzkoCwZ3ua"
      },
      "execution_count": 19,
      "outputs": []
    },
    {
      "cell_type": "code",
      "source": [
        "order = \"Herr Voß: ½ cup of Œtker™ caffè latte • bowl of açaí.\"\n",
        "shave_marks(order)"
      ],
      "metadata": {
        "colab": {
          "base_uri": "https://localhost:8080/",
          "height": 35
        },
        "id": "RCFMOk0xZ6pf",
        "outputId": "9afc15e0-bc04-4d58-8442-ecf2863b85ad"
      },
      "execution_count": 20,
      "outputs": [
        {
          "output_type": "execute_result",
          "data": {
            "text/plain": [
              "'Herr Voß: ½ cup of Œtker™ caffe latte • bowl of acai.'"
            ],
            "application/vnd.google.colaboratory.intrinsic+json": {
              "type": "string"
            }
          },
          "metadata": {},
          "execution_count": 20
        }
      ]
    },
    {
      "cell_type": "code",
      "source": [
        "Greek = 'Ζέφυρος, Zéfiro'\n",
        "shave_marks(Greek)"
      ],
      "metadata": {
        "colab": {
          "base_uri": "https://localhost:8080/",
          "height": 35
        },
        "id": "wMirUL7iZ7eO",
        "outputId": "9497d84f-70ce-49c2-db63-02493f067df2"
      },
      "execution_count": 21,
      "outputs": [
        {
          "output_type": "execute_result",
          "data": {
            "text/plain": [
              "'Ζεφυρος, Zefiro'"
            ],
            "application/vnd.google.colaboratory.intrinsic+json": {
              "type": "string"
            }
          },
          "metadata": {},
          "execution_count": 21
        }
      ]
    },
    {
      "cell_type": "code",
      "source": [
        "print(shave_marks('Straße'))\n",
        "\n",
        "print(shave_marks('café'))"
      ],
      "metadata": {
        "colab": {
          "base_uri": "https://localhost:8080/"
        },
        "id": "ZOFtyLoxaAeS",
        "outputId": "21f01b34-6a19-432e-d0cf-9179fafdc782"
      },
      "execution_count": 22,
      "outputs": [
        {
          "output_type": "stream",
          "name": "stdout",
          "text": [
            "Straße\n",
            "cafe\n"
          ]
        }
      ]
    },
    {
      "cell_type": "code",
      "source": [
        "def shave_marks_latin(txt):\n",
        "  \"\"\"Remove all diacritic marks from Latin base characters\"\"\"\n",
        "  norm_txt = unicodedata.normalize('NFD', txt)\n",
        "\n",
        "  latin_base = False\n",
        "  keepers = []\n",
        "\n",
        "  for c in norm_txt:\n",
        "    if unicodedata.combining (c) and latin_base:\n",
        "      continue # ignore diacritic on Latin base char\n",
        "\n",
        "    keepers.append(c)\n",
        "    # if it isn't combining char, it's a new base char\n",
        "\n",
        "    if not unicodedata.combining (c):\n",
        "      latin_base = c in string.ascii_letters\n",
        "\n",
        "  shaved .join(keepers)\n",
        "\n",
        "  return unicodedata.normalize('NFC', shaved)"
      ],
      "metadata": {
        "id": "hMhtwR1EaUVm"
      },
      "execution_count": 24,
      "outputs": []
    },
    {
      "cell_type": "code",
      "source": [
        "single_map = str.maketrans(\"\"\"‚ƒ„†ˆ‹''\"\"•–—˜›\"\"\",\n",
        "                           \"\"\"'f\"*^<''\"\"--~>\"\"\")\n",
        "\n",
        "multi_map = str.maketrans({\n",
        "    '€': '<euro>',\n",
        "    '…': '...',\n",
        "    'Œ': 'OE',\n",
        "    '™': '(TM)',\n",
        "    'œ': 'oe',\n",
        "    '‰': '<per mille>',\n",
        "    '‡': '**',\n",
        "})\n",
        "\n",
        "multi_map.update(single_map)\n",
        "\n",
        "def dewinize(txt):\n",
        "    \"\"\"Replace Win1252 symbols with ASCII chars or sequences\"\"\"\n",
        "    return txt.translate(multi_map)\n",
        "\n",
        "def ascify(txt):\n",
        "    no_marks = shave_marks_latin(dewinize(txt))\n",
        "    no_marks = no_marks.replace('ß', 'ss')\n",
        "    return unicodedata.normalize('NFKC', no_marks)\n",
        "\n"
      ],
      "metadata": {
        "colab": {
          "base_uri": "https://localhost:8080/",
          "height": 221
        },
        "id": "gp1CWQlgavEP",
        "outputId": "82866f16-993d-4363-a1af-b6c7afc2948d"
      },
      "execution_count": 28,
      "outputs": [
        {
          "output_type": "error",
          "ename": "ValueError",
          "evalue": "the first two maketrans arguments must have equal length",
          "traceback": [
            "\u001b[0;31m---------------------------------------------------------------------------\u001b[0m",
            "\u001b[0;31mValueError\u001b[0m                                Traceback (most recent call last)",
            "\u001b[0;32m<ipython-input-28-33b966582a44>\u001b[0m in \u001b[0;36m<cell line: 1>\u001b[0;34m()\u001b[0m\n\u001b[0;32m----> 1\u001b[0;31m single_map = str.maketrans(\"\"\"‚ƒ„†ˆ‹''\"\"•–—˜›\"\"\",\n\u001b[0m\u001b[1;32m      2\u001b[0m                            \"\"\"'f\"*^<''\"\"--~>\"\"\")\n\u001b[1;32m      3\u001b[0m \u001b[0;34m\u001b[0m\u001b[0m\n\u001b[1;32m      4\u001b[0m multi_map = str.maketrans({\n\u001b[1;32m      5\u001b[0m     \u001b[0;34m'€'\u001b[0m\u001b[0;34m:\u001b[0m \u001b[0;34m'<euro>'\u001b[0m\u001b[0;34m,\u001b[0m\u001b[0;34m\u001b[0m\u001b[0;34m\u001b[0m\u001b[0m\n",
            "\u001b[0;31mValueError\u001b[0m: the first two maketrans arguments must have equal length"
          ]
        }
      ]
    },
    {
      "cell_type": "code",
      "source": [
        "fruits = ['caju', 'atemoia', 'cajá', 'açaí', 'acerola']\n",
        "sorted(fruits)"
      ],
      "metadata": {
        "colab": {
          "base_uri": "https://localhost:8080/"
        },
        "id": "ZMsGpfz_bwsw",
        "outputId": "ca5270f5-332f-4a64-96c8-40d829be011c"
      },
      "execution_count": 29,
      "outputs": [
        {
          "output_type": "execute_result",
          "data": {
            "text/plain": [
              "['acerola', 'atemoia', 'açaí', 'caju', 'cajá']"
            ]
          },
          "metadata": {},
          "execution_count": 29
        }
      ]
    },
    {
      "cell_type": "code",
      "source": [
        "!pip install pyuca"
      ],
      "metadata": {
        "colab": {
          "base_uri": "https://localhost:8080/"
        },
        "id": "awOfS4Szcapj",
        "outputId": "02822609-2c2a-4159-8693-70aa749ef10a"
      },
      "execution_count": 30,
      "outputs": [
        {
          "output_type": "stream",
          "name": "stdout",
          "text": [
            "Collecting pyuca\n",
            "  Downloading pyuca-1.2-py2.py3-none-any.whl.metadata (649 bytes)\n",
            "Downloading pyuca-1.2-py2.py3-none-any.whl (1.5 MB)\n",
            "\u001b[?25l   \u001b[90m━━━━━━━━━━━━━━━━━━━━━━━━━━━━━━━━━━━━━━━━\u001b[0m \u001b[32m0.0/1.5 MB\u001b[0m \u001b[31m?\u001b[0m eta \u001b[36m-:--:--\u001b[0m\r\u001b[2K   \u001b[91m━━━━\u001b[0m\u001b[90m╺\u001b[0m\u001b[90m━━━━━━━━━━━━━━━━━━━━━━━━━━━━━━━━━━━\u001b[0m \u001b[32m0.2/1.5 MB\u001b[0m \u001b[31m4.3 MB/s\u001b[0m eta \u001b[36m0:00:01\u001b[0m\r\u001b[2K   \u001b[91m━━━━━━━━━━━━━━━━━━━━━━━━━━━━━━━━\u001b[0m\u001b[91m╸\u001b[0m\u001b[90m━━━━━━━\u001b[0m \u001b[32m1.2/1.5 MB\u001b[0m \u001b[31m17.5 MB/s\u001b[0m eta \u001b[36m0:00:01\u001b[0m\r\u001b[2K   \u001b[90m━━━━━━━━━━━━━━━━━━━━━━━━━━━━━━━━━━━━━━━━\u001b[0m \u001b[32m1.5/1.5 MB\u001b[0m \u001b[31m15.3 MB/s\u001b[0m eta \u001b[36m0:00:00\u001b[0m\n",
            "\u001b[?25hInstalling collected packages: pyuca\n",
            "Successfully installed pyuca-1.2\n"
          ]
        }
      ]
    },
    {
      "cell_type": "code",
      "source": [
        "import pyuca\n",
        "coll = pyuca.Collator()\n",
        "fruits = ['caju', 'atemoia', 'cajá', 'açaí', 'acerola']\n",
        "sorted_fruits = sorted(fruits, key=coll.sort_key)\n",
        "sorted_fruits"
      ],
      "metadata": {
        "colab": {
          "base_uri": "https://localhost:8080/"
        },
        "id": "BSoj7jtNcdJw",
        "outputId": "64cd93e0-1682-448c-eff2-f42c1314a123"
      },
      "execution_count": 31,
      "outputs": [
        {
          "output_type": "execute_result",
          "data": {
            "text/plain": [
              "['açaí', 'acerola', 'atemoia', 'cajá', 'caju']"
            ]
          },
          "metadata": {},
          "execution_count": 31
        }
      ]
    },
    {
      "cell_type": "code",
      "source": [
        "import unicodedata\n",
        "import re\n",
        "\n",
        "re_digit = re.compile(r'\\d')\n",
        "sample = '1\\xbc\\xb2\\u136b\\u216b\\u2466\\u2480\\u3285'\n",
        "\n",
        "for char in sample:\n",
        "  print('U+%04x' % ord(char),\n",
        "        char.center(6),\n",
        "        're_dig' if re_digit.match(char) else '_',\n",
        "        'isdig' if char.isdigit() else '_',\n",
        "        'isnum' if char.isnumeric() else '_',\n",
        "        format(unicodedata.numeric(char), '5.2f'),\n",
        "        unicodedata.name(char),\n",
        "        sep='\\t')"
      ],
      "metadata": {
        "colab": {
          "base_uri": "https://localhost:8080/"
        },
        "id": "NK3eg_cccmRC",
        "outputId": "5109fbad-ff41-4f97-fccb-60980651a960"
      },
      "execution_count": 32,
      "outputs": [
        {
          "output_type": "stream",
          "name": "stdout",
          "text": [
            "U+0031\t  1   \tre_dig\tisdig\tisnum\t 1.00\tDIGIT ONE\n",
            "U+00bc\t  ¼   \t_\t_\tisnum\t 0.25\tVULGAR FRACTION ONE QUARTER\n",
            "U+00b2\t  ²   \t_\tisdig\tisnum\t 2.00\tSUPERSCRIPT TWO\n",
            "U+136b\t  ፫   \t_\tisdig\tisnum\t 3.00\tETHIOPIC DIGIT THREE\n",
            "U+216b\t  Ⅻ   \t_\t_\tisnum\t12.00\tROMAN NUMERAL TWELVE\n",
            "U+2466\t  ⑦   \t_\tisdig\tisnum\t 7.00\tCIRCLED DIGIT SEVEN\n",
            "U+2480\t  ⒀   \t_\t_\tisnum\t13.00\tPARENTHESIZED NUMBER THIRTEEN\n",
            "U+3285\t  ㊅   \t_\t_\tisnum\t 6.00\tCIRCLED IDEOGRAPH SIX\n"
          ]
        }
      ]
    },
    {
      "cell_type": "code",
      "source": [
        "import re\n",
        "\n",
        "re_numbers_str = re.compile(r'\\d+')\n",
        "re_words_str = re.compile(r'\\w+')\n",
        "re_numbers_bytes = re.compile(rb'\\d+')\n",
        "re_words_bytes = re.compile(rb'\\w+')\n",
        "\n",
        "text_str = (\"Ramanujan saw \\u0be7\\u0bed\\u0be8\\u0bef\"\n",
        "            \" as 1729 = 13³ + 123 = 93³ + 103.\")\n",
        "\n",
        "text_bytes = text_str.encode('utf_8')\n",
        "\n",
        "print('Text', repr(text_str), sep='\\n')\n",
        "print('Numbers')\n",
        "print(' str :', re_numbers_str.findall(text_str))\n",
        "print(' bytes:', re_numbers_bytes.findall(text_bytes))\n",
        "print('Words')\n",
        "print(' str :', re_words_str.findall(text_str))\n",
        "print(' bytes:', re_words_bytes.findall(text_bytes))"
      ],
      "metadata": {
        "colab": {
          "base_uri": "https://localhost:8080/"
        },
        "id": "ctDl_mKfdLC3",
        "outputId": "d75290ee-b5ff-4895-eb45-ba0d45de3de4"
      },
      "execution_count": 33,
      "outputs": [
        {
          "output_type": "stream",
          "name": "stdout",
          "text": [
            "Text\n",
            "'Ramanujan saw ௧௭௨௯ as 1729 = 13³ + 123 = 93³ + 103.'\n",
            "Numbers\n",
            " str : ['௧௭௨௯', '1729', '13', '123', '93', '103']\n",
            " bytes: [b'1729', b'13', b'123', b'93', b'103']\n",
            "Words\n",
            " str : ['Ramanujan', 'saw', '௧௭௨௯', 'as', '1729', '13³', '123', '93³', '103']\n",
            " bytes: [b'Ramanujan', b'saw', b'as', b'1729', b'13', b'123', b'93', b'103']\n"
          ]
        }
      ]
    },
    {
      "cell_type": "code",
      "source": [
        "import os\n",
        "\n",
        "os.listdir('.')"
      ],
      "metadata": {
        "colab": {
          "base_uri": "https://localhost:8080/"
        },
        "id": "eCERs6ATdYiR",
        "outputId": "96205010-4adc-4c39-8fe5-da0a090dc9c8"
      },
      "execution_count": 34,
      "outputs": [
        {
          "output_type": "execute_result",
          "data": {
            "text/plain": [
              "['.config', 'dummy', 'cafe.txt', 'sample_data']"
            ]
          },
          "metadata": {},
          "execution_count": 34
        }
      ]
    },
    {
      "cell_type": "code",
      "source": [
        "os.listdir(b'.')"
      ],
      "metadata": {
        "colab": {
          "base_uri": "https://localhost:8080/"
        },
        "id": "kOHBa2nMda_f",
        "outputId": "21bf4b8b-584d-411b-b617-f9c35119f4b4"
      },
      "execution_count": 38,
      "outputs": [
        {
          "output_type": "execute_result",
          "data": {
            "text/plain": [
              "[b'.config', b'dummy', b'cafe.txt', b'sample_data']"
            ]
          },
          "metadata": {},
          "execution_count": 38
        }
      ]
    },
    {
      "cell_type": "code",
      "source": [
        "os.listdir(b'.\\fluent_python')"
      ],
      "metadata": {
        "colab": {
          "base_uri": "https://localhost:8080/",
          "height": 147
        },
        "id": "0ba9V4jsdh4L",
        "outputId": "3c154919-99ce-49f5-b6ea-60147889d65c"
      },
      "execution_count": 40,
      "outputs": [
        {
          "output_type": "error",
          "ename": "FileNotFoundError",
          "evalue": "[Errno 2] No such file or directory: b'.\\x0cluent_python'",
          "traceback": [
            "\u001b[0;31m---------------------------------------------------------------------------\u001b[0m",
            "\u001b[0;31mFileNotFoundError\u001b[0m                         Traceback (most recent call last)",
            "\u001b[0;32m<ipython-input-40-f60c756d30df>\u001b[0m in \u001b[0;36m<cell line: 1>\u001b[0;34m()\u001b[0m\n\u001b[0;32m----> 1\u001b[0;31m \u001b[0mos\u001b[0m\u001b[0;34m.\u001b[0m\u001b[0mlistdir\u001b[0m\u001b[0;34m(\u001b[0m\u001b[0;34mb'.\\fluent_python'\u001b[0m\u001b[0;34m)\u001b[0m\u001b[0;34m\u001b[0m\u001b[0;34m\u001b[0m\u001b[0m\n\u001b[0m",
            "\u001b[0;31mFileNotFoundError\u001b[0m: [Errno 2] No such file or directory: b'.\\x0cluent_python'"
          ]
        }
      ]
    },
    {
      "cell_type": "code",
      "source": [
        "pi_name_bytes = os.listdir(b'.')[1]\n",
        "pi_name_str = pi_name_bytes.decode('ascii' , 'surrogateescape')\n",
        "pi_name_str"
      ],
      "metadata": {
        "colab": {
          "base_uri": "https://localhost:8080/",
          "height": 35
        },
        "id": "_q_7NG56dreN",
        "outputId": "3d8b1d32-2a60-4bb8-a219-0822f4f34327"
      },
      "execution_count": 41,
      "outputs": [
        {
          "output_type": "execute_result",
          "data": {
            "text/plain": [
              "'dummy'"
            ],
            "application/vnd.google.colaboratory.intrinsic+json": {
              "type": "string"
            }
          },
          "metadata": {},
          "execution_count": 41
        }
      ]
    }
  ]
}